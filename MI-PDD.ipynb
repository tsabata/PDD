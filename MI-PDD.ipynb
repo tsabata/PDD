{
 "metadata": {
  "name": "MI-PDD"
 },
 "nbformat": 3,
 "nbformat_minor": 0,
 "worksheets": [
  {
   "cells": [
    {
     "cell_type": "markdown",
     "metadata": {},
     "source": [
      "#P\u0159edzpracov\u00e1n\u00ed dat a predikce ud\u00e1losti z letov\u00fdch z\u00e1znam\u016f\n",
      "##Sezn\u00e1men\u00ed s daty:\n",
      "Data jsou v\u00fdstupem experimentu, kter\u00fd se sna\u017e\u00ed vyvinout syst\u00e9m do ultralehk\u00fdch letadel, jen\u017e p\u0159i potencion\u00e1ln\u011b nebezpe\u010dn\u00fdch situac\u00edch pilota upozorn\u00ed, p\u0159\u00edpadn\u011b s\u00e1m zas\u00e1hne do \u0159\u00edzen\u00ed letadla pro vyvarovn\u00ed se havarii. Experiment je ve f\u00e1zi, kde piloti l\u00e9taj\u00ed na simul\u00e1torech Flightgear a Xplane 10, kter\u00e9 jsou napojeny na polohovac\u00ed platformu. V p\u0159\u00edpad\u011b potencion\u00e1ln\u00ed hrozby indikuj\u00ed uv\u011bdom\u011bn\u00ed o jevu zp\u016fsobem, kter\u00fd se projev\u00ed i do v\u00fdstupn\u00fdch dat.\n",
      "\n",
      "Data jsou zaznamen\u00e1v\u00e1na pomoc\u00ed simul\u00e1toru do souboru s frekvenc\u00ed 100Hz. Jednotliv\u00e9 atributy dat jsou definov\u00e1ny pomoc\u00ed souboru XML. Data jsou zaznamen\u00e1v\u00e1ny tak, aby bylo mo\u017en\u00e9 let zp\u011btn\u011b rekonstruovat v simul\u00e1toru. Z tohoto d\u016fvodu je po\u010det atribut\u016f velice velk\u00fd (t\u00e9m\u011b\u0159 100 atribut\u016f). V\u011bt\u0161ina z nich v\u0161ak nem\u00e1 z hlediska predikce jevu \u017e\u00e1dnou infomarn\u00ed hodnotu.\n",
      "\n",
      "##Problemy v datech:\n",
      "Data, kter\u00e9 jsou v\u00fdstupem ze simul\u00e1toru, nejsou \u00fapln\u011b \u010dist\u00e1. Objevuj\u00ed se v nich n\u00e1sleduj\u00edc\u00ed probl\u00e9my.\n",
      "<ul>\n",
      "    <li>Pr\u00e1zdn\u00e9 z\u00e1znamy na za\u010d\u00e1tku</li>\n",
      "    <li>NaN</li>\n",
      "    <li>EmptyValue</li>\n",
      "    <li>Validace dat - p\u0159\u00edznak 0/1 obsahuje spojit\u00e9 hodnoty</li>\n",
      "</ul>\n",
      "\n",
      "##Feature selection\n",
      "Pro redukci dimenzionality prostoru se vyu\u017eije jak manu\u00e1ln\u00ed odstran\u011bn\u00ed atribut\u016f zalo\u017een\u00e9 na znalosti dan\u00e9ho probl\u00e9mu, tak existuj\u00edc\u00ed algoritmy (PCA,...).\n",
      "\n",
      "###Atributy\n",
      "Data, kter\u00e1 jsou pro anal\u00fdzu dostupn\u00e1, neobsahuj\u00ed popis jednotliv\u00fdch sloupc\u016f. Popisky sloupc\u016f pro snadn\u011bj\u0161\u00ed pr\u00e1ci s daty a orientaci v nich jsou dopl\u0148ov\u00e1ny pomoc\u00ed bash skriptu.\n",
      "\n",
      "<i>Attr=\"Aileron, Aileron_trim, Elevator, Elevator_Trim, Ruder, Rudder_trim, Flaps, Slats, Speedbrake, Throttle1, Throttle2, Starter1, Starter2, Fuel_pump1, Fuel_pump2, Cutoff1, Cutoff2, Mixture1, Mixture2, Propeller_pitch1, Propeller_pitch2, Magnetos1, Magnetos2, Ignition1, Ignition2, Brake_left, Brake_right, Brake_parking, Steering, Gear_down, Gear_position, Gear_position1, Gear_position2, Gear_position3, Gear_position4, Engine_pump1, Engine_pump2, Electric_pump1, Electric_pump2, Battery_switch, External_power, APU_Generator, Engage_autopilot, Heading_select, Altitude_select, Bank_angle_select, Vertical_speed_select, Speed_select, Latitude_deg, Longitude_deg, Altitude_ft, Roll_deg, Pitch_deg, Heading_deg, Side_slip_rad, Airspeed_kt, Glideslope, Mach, Speed_down_fps, Speed_east_fps, Speed_nort_fps, uBody_fps, vBody_fps, wBody_fps, Vertical_speed_fps, nlf_acceleration, ned_down_accel_fps_sec, ned_east_accel_fps_sec, ned_north_accel_fps_sec, pilot_x_accel_fps_sec, pilot_y_accel_fps_sec, pilot_z_accel_fps_sec, elevator_pos_norm, flap_pos_norm, left_aileron_pos_norm, right_aileron_pos_norm, rudder_pos_norm, engine_running, rpm\"\n",
      "</i>\n",
      "\n",
      "Ji\u017e p\u0159i pouh\u00e9m pohledu je jasn\u00e9, \u017ee v\u011bt\u0161ina atribut\u016f nen\u00ed v\u016fbec v\u00fdznamn\u00e1. Zbytek atribut\u016f se pokus\u00edme odstranit. \n",
      "\n",
      "###Manualn\u00ed redukce atribut\u016f\n",
      "\n",
      "\n",
      "##N\u00e1vrh metodiky predikce\n",
      "Pro predikci p\u0159\u00edznak\u016f se pokus\u00edm pou\u017e\u00edt RNN (Recurrent Neural Network), kter\u00e1 oproti ANN p\u0159in\u00e1\u0161\u00ed schopnost zp\u011btn\u00e9 vazby. Zp\u011btn\u00e1 vazba se nej\u010dast\u011bji pou\u017e\u00edv\u00e1 jako pam\u011bt a mo\u017enost predikovat jevy, kter\u00e9 nejsou jednozna\u010dn\u011b definovateln\u00e9 v \u010dase t, ale naopak jsou typick\u00e9 dlouh\u00fdm a specifick\u00fdm pr\u016fb\u011bhem. Mezi RNN existuje velk\u00e9 mno\u017estv\u00ed architektur (nap\u0159. Hopfield Network,Elman and Jordan networks, Continuous-time RNN). D\u016fle\u017eit\u00fdm bodem samotn\u00e9 predikce je vybrat spr\u00e1vnou architekturu RNN.\n",
      "\n",
      "##Implementace\n",
      "###Na\u010dten\u00ed dat"
     ]
    },
    {
     "cell_type": "code",
     "collapsed": false,
     "input": [
      "import json\n",
      "import numpy as np\n",
      "import pandas as pd\n",
      "import sys\n",
      "\n",
      "import os\n",
      "os.getcwd()\n",
      "DATA_FOLDER = \"/windows/FIT/Magistr/1.semestr/PDD/iPython/data/ref_data\"\n",
      "os.chdir(DATA_FOLDER)\n",
      "sys.path.append(DATA_FOLDER)\n",
      "rewards = pd.read_csv(\"test_11_11_vyvrtka.txt\", delimiter=',')"
     ],
     "language": "python",
     "metadata": {},
     "outputs": [],
     "prompt_number": 16
    },
    {
     "cell_type": "code",
     "collapsed": false,
     "input": [],
     "language": "python",
     "metadata": {},
     "outputs": []
    }
   ],
   "metadata": {}
  }
 ]
}