{
 "metadata": {
  "name": "MI-PDD"
 },
 "nbformat": 3,
 "nbformat_minor": 0,
 "worksheets": [
  {
   "cells": [
    {
     "cell_type": "code",
     "collapsed": false,
     "input": [
      "import json\n",
      "import numpy as np\n",
      "import pandas as pd\n",
      "import sys\n",
      "import os\n",
      "os.getcwd()\n",
      "DATA_FOLDER = \"/windows/FIT/Magistr/1.semestr/PDD/iPython/data/ref_data\"\n",
      "os.chdir(DATA_FOLDER)\n",
      "sys.path.append(DATA_FOLDER)\n",
      "data = pd.read_csv(\"test_11_11_vyvrtka.txt\", delimiter=',');\n",
      "#data = data.ix[:, ['Flaps', 'Rudder_trim']]"
     ],
     "language": "python",
     "metadata": {},
     "outputs": [
      {
       "ename": "NameError",
       "evalue": "name 'set_option' is not defined",
       "output_type": "pyerr",
       "traceback": [
        "\u001b[0;31m---------------------------------------------------------------------------\u001b[0m\n\u001b[0;31mNameError\u001b[0m                                 Traceback (most recent call last)",
        "\u001b[0;32m<ipython-input-50-d08d94c5b313>\u001b[0m in \u001b[0;36m<module>\u001b[0;34m()\u001b[0m\n\u001b[1;32m      2\u001b[0m \u001b[0;32mimport\u001b[0m \u001b[0mnumpy\u001b[0m \u001b[0;32mas\u001b[0m \u001b[0mnp\u001b[0m\u001b[0;34m\u001b[0m\u001b[0m\n\u001b[1;32m      3\u001b[0m \u001b[0;32mimport\u001b[0m \u001b[0mpandas\u001b[0m \u001b[0;32mas\u001b[0m \u001b[0mpd\u001b[0m\u001b[0;34m\u001b[0m\u001b[0m\n\u001b[0;32m----> 4\u001b[0;31m \u001b[0mset_option\u001b[0m\u001b[0;34m(\u001b[0m\u001b[0;34m'display.max_columns'\u001b[0m\u001b[0;34m,\u001b[0m \u001b[0mNone\u001b[0m\u001b[0;34m)\u001b[0m\u001b[0;34m\u001b[0m\u001b[0m\n\u001b[0m\u001b[1;32m      5\u001b[0m \u001b[0;32mimport\u001b[0m \u001b[0msys\u001b[0m\u001b[0;34m\u001b[0m\u001b[0m\n\u001b[1;32m      6\u001b[0m \u001b[0;32mimport\u001b[0m \u001b[0mos\u001b[0m\u001b[0;34m\u001b[0m\u001b[0m\n",
        "\u001b[0;31mNameError\u001b[0m: name 'set_option' is not defined"
       ]
      }
     ],
     "prompt_number": 50
    },
    {
     "cell_type": "markdown",
     "metadata": {},
     "source": [
      "#P\u0159edzpracov\u00e1n\u00ed dat a predikce ud\u00e1losti z letov\u00fdch z\u00e1znam\u016f\n",
      "##Sezn\u00e1men\u00ed s daty:\n",
      "Data jsou v\u00fdstupem experimentu, kter\u00fd se sna\u017e\u00ed vyvinout syst\u00e9m do ultralehk\u00fdch letadel, jen\u017e p\u0159i potencion\u00e1ln\u011b nebezpe\u010dn\u00fdch situac\u00edch pilota upozorn\u00ed, p\u0159\u00edpadn\u011b s\u00e1m zas\u00e1hne do \u0159\u00edzen\u00ed letadla pro vyvarovn\u00ed se havarii. Experiment je ve f\u00e1zi, kde piloti l\u00e9taj\u00ed na simul\u00e1torech Flightgear a Xplane 10, kter\u00e9 jsou napojeny na polohovac\u00ed platformu. V p\u0159\u00edpad\u011b potencion\u00e1ln\u00ed hrozby indikuj\u00ed uv\u011bdom\u011bn\u00ed o jevu zp\u016fsobem, kter\u00fd se projev\u00ed i do v\u00fdstupn\u00fdch dat.\n",
      "\n",
      "Data jsou zaznamen\u00e1v\u00e1na pomoc\u00ed simul\u00e1toru do souboru s frekvenc\u00ed 100Hz. Jednotliv\u00e9 atributy dat jsou definov\u00e1ny pomoc\u00ed souboru XML. Data jsou zaznamen\u00e1v\u00e1ny tak, aby bylo mo\u017en\u00e9 let zp\u011btn\u011b rekonstruovat v simul\u00e1toru. Z tohoto d\u016fvodu je po\u010det atribut\u016f velice velk\u00fd (t\u00e9m\u011b\u0159 100 atribut\u016f). V\u011bt\u0161ina z nich v\u0161ak nem\u00e1 z hlediska predikce jevu \u017e\u00e1dnou infomarn\u00ed hodnotu.\n",
      "\n",
      "###Problemy v datech:\n",
      "Data, kter\u00e9 jsou v\u00fdstupem ze simul\u00e1toru, nejsou \u00fapln\u011b \u010dist\u00e1. Objevuj\u00ed se v nich n\u00e1sleduj\u00edc\u00ed probl\u00e9my.\n",
      "<ul>\n",
      "    <li>Pr\u00e1zdn\u00e9 z\u00e1znamy na za\u010d\u00e1tku</li>\n",
      "    <li>NaN</li>\n",
      "    <li>EmptyValue</li>\n",
      "    <li>Validace dat - p\u0159\u00edznak 0/1 obsahuje spojit\u00e9 hodnoty</li>\n",
      "    <li>Absence p\u0159\u00edznak\u016f - v n\u011bkter\u00fdch souborech p\u0159\u00edznaky jevu chyb\u00ed \u00fapln\u011b</li>\n",
      "</ul>\n",
      "\n",
      "##C\u00edle predikce\n",
      "Data byla vytv\u00e1\u0159ena za c\u00edlem predikce nebezpe\u010dn\u00fdch situac\u00ed v ultralehk\u00fdch letadlech. Ka\u017ed\u00fd takov\u00fd jev m\u00e1 vlastn\u00ed mno\u017einu p\u0159\u00edznak\u016f, pomoc\u00ed kter\u00e9 se d\u00e1 charakterizovat. Mezi tyto jevy (potencion\u00e1ln\u011b nebezpe\u010dn\u00e9 situace) pat\u0159\u00ed nap\u0159\u00edklad: prudk\u00fd p\u00e1d letadla, ztr\u00e1ta rychlosti letadla, v\u00fdvrtka, vzlet letadla, atd.. Proto\u017ee takov\u00fdch situac\u00ed m\u016f\u017ee b\u00fdt velk\u00e9 mno\u017estv\u00ed rozhodl jsem se vzhledem k rozsahu pr\u00e1ce zam\u011b\u0159it pouze na jednu. V t\u00e9to semestr\u00e1ln\u00ed pr\u00e1ci jsem se zam\u011b\u0159il p\u0159edev\u0161\u00edm na prudk\u00e9 p\u00e1dy. \n",
      "\n",
      "##Feature selection\n",
      "Pro redukci dimenzionality prostoru se vyu\u017eije jak manu\u00e1ln\u00ed odstran\u011bn\u00ed atribut\u016f zalo\u017een\u00e9 na znalosti dan\u00e9ho probl\u00e9mu, tak existuj\u00edc\u00ed algoritmy (PCA,...).\n",
      "\n",
      "###Atributy\n",
      "Data, kter\u00e1 jsou pro anal\u00fdzu dostupn\u00e1, neobsahuj\u00ed popis jednotliv\u00fdch sloupc\u016f. Popisky sloupc\u016f pro snadn\u011bj\u0161\u00ed pr\u00e1ci s daty a orientaci v nich jsou dopl\u0148ov\u00e1ny pomoc\u00ed bash skriptu.\n",
      "\n",
      "<i>Attr=\"Aileron, Aileron_trim, Elevator, Elevator_Trim, Ruder, Rudder_trim, Flaps, Slats, Speedbrake, Throttle1, Throttle2, Starter1, Starter2, Fuel_pump1, Fuel_pump2, Cutoff1, Cutoff2, Mixture1, Mixture2, Propeller_pitch1, Propeller_pitch2, Magnetos1, Magnetos2, Ignition1, Ignition2, Brake_left, Brake_right, Brake_parking, Steering, Gear_down, Gear_position, Gear_position1, Gear_position2, Gear_position3, Gear_position4, Engine_pump1, Engine_pump2, Electric_pump1, Electric_pump2, Battery_switch, External_power, APU_Generator, Engage_autopilot, Heading_select, Altitude_select, Bank_angle_select, Vertical_speed_select, Speed_select, Latitude_deg, Longitude_deg, Altitude_ft, Roll_deg, Pitch_deg, Heading_deg, Side_slip_rad, Airspeed_kt, Glideslope, Mach, Speed_down_fps, Speed_east_fps, Speed_nort_fps, uBody_fps, vBody_fps, wBody_fps, Vertical_speed_fps, nlf_acceleration, ned_down_accel_fps_sec, ned_east_accel_fps_sec, ned_north_accel_fps_sec, pilot_x_accel_fps_sec, pilot_y_accel_fps_sec, pilot_z_accel_fps_sec, elevator_pos_norm, flap_pos_norm, left_aileron_pos_norm, right_aileron_pos_norm, rudder_pos_norm, engine_running, rpm\"\n",
      "</i>\n",
      "\n",
      "Ji\u017e p\u0159i pouh\u00e9m pohledu je jasn\u00e9, \u017ee v\u011bt\u0161ina atribut\u016f nen\u00ed v\u016fbec v\u00fdznamn\u00e1. Zbytek atribut\u016f se pokus\u00edme odstranit. \n",
      "\n",
      "###Manualn\u00ed v\u00fdb\u011br atribut\u016f na z\u00e1klad\u011b v\u00fdznamnosti\n",
      "\n",
      "Jedn\u00edm z kriteri\u00ed, kter\u00e9 n\u00e1s m\u016f\u017ee napadnout z hlediska v\u00fdznamnosti atributu je jeho rozptyl. Zd\u00e1n\u00ed v\u0161ak trochu klame. Jak je vid\u011bt, nap\u0159\u00edklad ot\u00e1\u010dky motoru \"rpm\" z\u0159ejm\u011b nebudou m\u00edt v\u00fdznamn\u00fd vliv na nebezpe\u010dn\u00e9 situace v letadle. To v\u0161ak neznamen\u00e1, \u017ee by byl atribut zbyte\u010dn\u00fd. Nap\u0159\u00edklad p\u0159i vzletu/p\u0159ist\u00e1n\u00ed m\u016f\u017ee b\u00fdt atribut rpm dost v\u00fdzna\u010dn\u00fd."
     ]
    },
    {
     "cell_type": "code",
     "collapsed": false,
     "input": [
      "dataVariance = data.var();\n",
      "dataVariance.sort(ascending=False)\n",
      "dataVariance.head(15)"
     ],
     "language": "python",
     "metadata": {},
     "outputs": [
      {
       "output_type": "pyout",
       "prompt_number": 7,
       "text": [
        "rpm                      442119.854259\n",
        "Altitude_ft              359128.559824\n",
        "Speed_east_fps             8841.003405\n",
        "Speed_down_fps             2183.245450\n",
        "Vertical_speed_fps         2183.245450\n",
        "Heading_deg                1915.317020\n",
        "uBody_fps                  1494.301806\n",
        "Speed_nort_fps             1226.015282\n",
        "pilot_z_accel_fps_sec       658.927691\n",
        "Airspeed_kt                 496.950019\n",
        "Roll_deg                    430.663377\n",
        "Pitch_deg                   329.307020\n",
        "vBody_fps                    85.871891\n",
        "wBody_fps                    62.052453\n",
        "Side_slip_rad                 6.070730\n",
        "dtype: float64"
       ]
      }
     ],
     "prompt_number": 7
    },
    {
     "cell_type": "markdown",
     "metadata": {},
     "source": [
      "Ot\u00e1\u010dky motoru maj\u00ed nejvy\u0161\u0161\u00ed rozptyl, co\u017e m\u016f\u017ee b\u00fdt zp\u016fsobeno charakterem hodnot. Ot\u00e1\u010dky motoru nab\u00fdvaj\u00ed ve sv\u00e9m intervalu velk\u00e9ho rozptylu oproti nap\u0159\u00edklad rotaci letadla, kter\u00e1 je interpretov\u00e1na pomoc\u00ed stup\u0148\u016f/radi\u00e1n\u016f. Pokus\u00edme se tento jev odstranit normalizac\u00ed."
     ]
    },
    {
     "cell_type": "code",
     "collapsed": false,
     "input": [
      "from sklearn import preprocessing\n",
      "\n",
      "def sci_minmax(X):\n",
      "    minmax_scale = preprocessing.MinMaxScaler(feature_range=(0, 1), copy=True)\n",
      "    return minmax_scale.fit_transform(X)\n",
      "\n",
      "#data_normalized = sci_minmax(data)\n",
      "#data_variance=data_normalized.var()\n",
      "#data_variance.head(10)"
     ],
     "language": "python",
     "metadata": {},
     "outputs": [],
     "prompt_number": 82
    },
    {
     "cell_type": "markdown",
     "metadata": {},
     "source": [
      "Dal\u0161\u00edm zp\u016fsobem je v\u00fdpo\u010det korelace, tedy line\u00e1rn\u00ed zavislosti na nejv\u00fdznam\u011bnj\u0161\u00edm p\u0159\u00edznaku. P\u0159i prudk\u00e9m p\u00e1du bude nejv\u00fdznam\u011bj\u0161\u00ed atribut <b>Pitch</b>, tedy jak moc je letadlo naklopeno p\u0159edn\u00ed \u010d\u00e1st\u00ed sm\u011brem k zemi. P\u0159edpokl\u00e1d\u00e1me, \u017ee letadlo nepad\u00e1 po vzletu vh\u016fru, kde ztratilo rychlost."
     ]
    },
    {
     "cell_type": "code",
     "collapsed": false,
     "input": [
      "import matplotlib.pyplot as plt\n",
      "cov = data.cov();\n",
      "pitch = cov['Pitch_deg']\n",
      "pitchSort=pitch.order()\n",
      "pitchSort\n",
      "# cht\u011blo by to graf"
     ],
     "language": "python",
     "metadata": {},
     "outputs": [
      {
       "output_type": "pyout",
       "prompt_number": 91,
       "text": [
        "Speed_down_fps            -8.101799e+02\n",
        "Speed_nort_fps            -3.261329e+02\n",
        "uBody_fps                 -2.863734e+02\n",
        "Airspeed_kt               -1.519164e+02\n",
        "vBody_fps                 -1.061588e+02\n",
        "Heading_deg               -8.580513e+01\n",
        "wBody_fps                 -6.411482e+01\n",
        "Side_slip_rad             -3.271541e+01\n",
        "nlf_acceleration          -1.043993e+01\n",
        "Brake_right               -3.077656e+00\n",
        "Mach                      -2.451088e-01\n",
        "Flaps                      0.000000e+00\n",
        "Slats                      0.000000e+00\n",
        "Speedbrake                 0.000000e+00\n",
        "Starter1                   0.000000e+00\n",
        "Starter2                   0.000000e+00\n",
        "Fuel_pump1                 0.000000e+00\n",
        "Fuel_pump2                 0.000000e+00\n",
        "Cutoff1                    0.000000e+00\n",
        "Cutoff2                    0.000000e+00\n",
        "Mixture1                   0.000000e+00\n",
        "Mixture2                   0.000000e+00\n",
        "Propeller_pitch1           0.000000e+00\n",
        "Propeller_pitch2           0.000000e+00\n",
        "Magnetos1                  0.000000e+00\n",
        "Magnetos2                  0.000000e+00\n",
        "Ignition1                  0.000000e+00\n",
        "Ignition2                  0.000000e+00\n",
        "Brake_parking              0.000000e+00\n",
        "Steering                   0.000000e+00\n",
        "Gear_down                  0.000000e+00\n",
        "Gear_position              0.000000e+00\n",
        "Gear_position1             0.000000e+00\n",
        "Gear_position2             0.000000e+00\n",
        "Gear_position3             0.000000e+00\n",
        "Gear_position4             0.000000e+00\n",
        "Engine_pump1               0.000000e+00\n",
        "Engine_pump2               0.000000e+00\n",
        "Electric_pump1             0.000000e+00\n",
        "Electric_pump2             0.000000e+00\n",
        "Battery_switch             0.000000e+00\n",
        "External_power             0.000000e+00\n",
        "APU_Generator              0.000000e+00\n",
        "Engage_autopilot           0.000000e+00\n",
        "Heading_select             0.000000e+00\n",
        "Altitude_select            0.000000e+00\n",
        "Bank_angle_select          0.000000e+00\n",
        "Vertical_speed_select      0.000000e+00\n",
        "Speed_select               0.000000e+00\n",
        "ned_down_accel_fps_sec     0.000000e+00\n",
        "ned_east_accel_fps_sec     0.000000e+00\n",
        "ned_north_accel_fps_sec    0.000000e+00\n",
        "flap_pos_norm              0.000000e+00\n",
        "engine_running             0.000000e+00\n",
        "Aileron_trim               5.182728e-29\n",
        "Elevator_Trim              4.190935e-04\n",
        "Brake_left                 2.643680e-02\n",
        "Latitude_deg               3.726319e-02\n",
        "Rudder_trim                4.977039e-02\n",
        "Longitude_deg              6.495664e-02\n",
        "Elevator                   1.505808e+00\n",
        "elevator_pos_norm          1.505941e+00\n",
        "Throttle2                  1.531818e+00\n",
        "pilot_y_accel_fps_sec      1.828806e+00\n",
        "left_aileron_pos_norm      1.853965e+00\n",
        "right_aileron_pos_norm     1.853965e+00\n",
        "Aileron                    1.854233e+00\n",
        "Throttle1                  3.110756e+00\n",
        "Ruder                      4.510141e+00\n",
        "rudder_pos_norm            4.559063e+00\n",
        "Glideslope                 5.201423e+00\n",
        "pilot_x_accel_fps_sec      2.593100e+01\n",
        "Speed_east_fps             3.680684e+01\n",
        "Roll_deg                   2.340096e+02\n",
        "Pitch_deg                  3.293070e+02\n",
        "pilot_z_accel_fps_sec      3.348745e+02\n",
        "Vertical_speed_fps         8.101799e+02\n",
        "Altitude_ft                1.875890e+03\n",
        "rpm                        6.901268e+03\n",
        "Name: Pitch_deg, Length: 79, dtype: float64"
       ]
      }
     ],
     "prompt_number": 91
    },
    {
     "cell_type": "markdown",
     "metadata": {},
     "source": [
      "###V\u00fdb\u011br p\u0159\u00edznak\u016f pomoc\u00ed vizualizac\u00ed\n",
      "Vhodn\u011bj\u0161\u00ed metoda se v tomto p\u0159\u00edpad\u011b projevila metoda vizualizac\u00ed. P\u0159i vyu\u017eit\u00ed grafu 'Matrix 3D scatter Color' v Rapidmineru je p\u0159i nastaven\u00ed:\n",
      "\n",
      "    x = lattitude\n",
      "    y = longitude\n",
      "    z = altitude\n",
      "    color = p\u0159iznak\n",
      "P\u0159i tomto nastaven\u00ed je vid\u011bt re\u00e1ln\u00fd pozi\u010dn\u00ed pohyb letounu ve v\u0161ech 3 os\u00e1ch. Je mo\u017en\u00e9 vypozorovat nap\u0159. p\u00e1dy, zat\u00e1\u010dky. V p\u0159\u00edpad\u011b detekce v\u00fdvrtek lze pou\u017e\u00edvat nam\u00edsto pozi\u010dn\u00edch atribut\u016f atributy polohov\u00e9.\n",
      "<img align=\"middle\" src=\"files/images/parametry.gif\">"
     ]
    },
    {
     "cell_type": "markdown",
     "metadata": {},
     "source": [
      "Ze v\u0161ech atribut\u016f byly vybr\u00e1ny n\u00e1sleduj\u00edc\u00ed: \n",
      "<ul>\n",
      "    <li><b>Altitude</b> - Nadmo\u0159sk\u00e1 v\u00fd\u0161ka letounu</li>\n",
      "\n",
      "    <li><b>Roll a Pitch</b> - Klopen\u00ed a klon\u011bn\u00ed letounu</li>\n",
      "\n",
      "    <li><b>Airspeed</b> - Rychlost letadla</li>\n",
      "\n",
      "    <li><b>Elevator_position</b> - V\u00fd\u0161kov\u00e9 kormidlo</li>\n",
      "</ul>\n"
     ]
    },
    {
     "cell_type": "markdown",
     "metadata": {},
     "source": [
      "\n",
      "##N\u00e1vrh metodiky predikce\n",
      "Pro predikci p\u0159\u00edznak\u016f vyzkou\u0161\u00edm n\u011bkolik model\u016f. Nejprve je t\u0159eba timeseries data p\u0159etransformovat tak, aby bylo mo\u017en\u00e9 pou\u017e\u00edt n\u011bkter\u00fd z model\u016f. Jeden z vhodn\u00fdch zp\u016fsob\u016f je vytvo\u0159en\u00ed vlastn\u00edch atribut\u016f, kter\u00e9 se pro ka\u017ed\u00fd z\u00e1znam po\u010d\u00edtaj\u00ed ze z\u00e1znam\u016f p\u0159edchoz\u00edch, co\u017e je vhodn\u00e9 zejm\u00e9na kv\u016fli zpo\u017ed\u011bn\u00ed p\u0159\u00edznaku jevu v datech.\n",
      "\n",
      "##Implementace\n",
      "###Na\u010dten\u00ed dat"
     ]
    },
    {
     "cell_type": "code",
     "collapsed": false,
     "input": [],
     "language": "python",
     "metadata": {},
     "outputs": [],
     "prompt_number": 91
    },
    {
     "cell_type": "code",
     "collapsed": false,
     "input": [],
     "language": "python",
     "metadata": {},
     "outputs": []
    }
   ],
   "metadata": {}
  }
 ]
}