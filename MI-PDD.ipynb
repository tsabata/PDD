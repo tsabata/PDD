{
 "metadata": {
  "name": "MI-PDD"
 },
 "nbformat": 3,
 "nbformat_minor": 0,
 "worksheets": [
  {
   "cells": [
    {
     "cell_type": "markdown",
     "metadata": {},
     "source": [
      "#P\u0159edzpracov\u00e1n\u00ed dat a predikce ud\u00e1losti z letov\u00fdch z\u00e1znam\u016f\n",
      "##Sezn\u00e1men\u00ed s daty:\n",
      "Data jsou v\u00fdstupem experimentu, kter\u00fd se sna\u017e\u00ed vyvinout syst\u00e9m do ultralehk\u00fdch letadel, jen\u017e p\u0159i potencion\u00e1ln\u011b nebezpe\u010dn\u00fdch situac\u00edch pilota upozorn\u00ed, p\u0159\u00edpadn\u011b s\u00e1m zas\u00e1hne do \u0159\u00edzen\u00ed letadla pro vyvarovn\u00ed se havarii. Experiment je ve f\u00e1zi, kde piloti l\u00e9taj\u00ed na simul\u00e1torech Flightgear a Xplane 10, kter\u00e9 jsou napojeny na polohovac\u00ed platformu. V p\u0159\u00edpad\u011b potencion\u00e1ln\u00ed hrozby indikuj\u00ed uv\u011bdom\u011bn\u00ed o jevu zp\u016fsobem, kter\u00fd se projev\u00ed i do v\u00fdstupn\u00fdch dat.\n",
      "\n",
      "Data jsou zaznamen\u00e1v\u00e1na pomoc\u00ed simul\u00e1toru do souboru s frekvenc\u00ed 100Hz. Jednotliv\u00e9 atributy dat jsou definov\u00e1ny pomoc\u00ed souboru XML. Data jsou zaznamen\u00e1v\u00e1ny tak, aby bylo mo\u017en\u00e9 let zp\u011btn\u011b rekonstruovat v simul\u00e1toru. Z tohoto d\u016fvodu je po\u010det atribut\u016f velice velk\u00fd (t\u00e9m\u011b\u0159 100 atribut\u016f). V\u011bt\u0161ina z nich v\u0161ak nem\u00e1 z hlediska predikce jevu \u017e\u00e1dnou infomarn\u00ed hodnotu."
     ]
    },
    {
     "cell_type": "code",
     "collapsed": false,
     "input": [],
     "language": "python",
     "metadata": {},
     "outputs": []
    }
   ],
   "metadata": {}
  }
 ]
}